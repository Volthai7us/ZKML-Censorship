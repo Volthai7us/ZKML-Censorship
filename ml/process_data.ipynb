{
 "cells": [
  {
   "cell_type": "code",
   "execution_count": 1,
   "id": "initial_id",
   "metadata": {
    "collapsed": true,
    "ExecuteTime": {
     "end_time": "2023-10-12T11:11:21.880756Z",
     "start_time": "2023-10-12T11:11:19.853171Z"
    }
   },
   "outputs": [
    {
     "name": "stdout",
     "output_type": "stream",
     "text": [
      "./data/processed.csv\n",
      "./data/light_data.csv\n",
      "./data/light.csv\n",
      "./data/data.csv\n",
      "./data/processed\n",
      "./data/lightdata.csv\n"
     ]
    }
   ],
   "source": [
    "import re    # for regular expressions \n",
    "import nltk  # for text manipulation \n",
    "from nltk.corpus import stopwords\n",
    "import string # for text manipulation \n",
    "import warnings\n",
    "import pandas as pd # for data manipulation \n",
    "import numpy as np\n",
    "import matplotlib.pyplot as plt\n",
    "\n",
    "pd.set_option(\"display.max_colwidth\", 200)\n",
    "warnings.filterwarnings(\"ignore\") #ignore warnings\n",
    "\n",
    "# import ssl\n",
    "# \n",
    "# try:\n",
    "#     _create_unverified_https_context = ssl._create_unverified_context\n",
    "# except AttributeError:\n",
    "#     pass\n",
    "# else:\n",
    "#     ssl._create_default_https_context = _create_unverified_https_context\n",
    "# \n",
    "# nltk.download()\n",
    "\n",
    "import os\n",
    "for dirname, _, filenames in os.walk('./data'):\n",
    "    for filename in filenames:\n",
    "        print(os.path.join(dirname, filename))\n",
    "\n",
    "%matplotlib inline"
   ]
  },
  {
   "cell_type": "code",
   "execution_count": 2,
   "outputs": [
    {
     "data": {
      "text/plain": "   0  1467810369  Mon Apr 06 22:19:45 PDT 2009  NO_QUERY _TheSpecialOne_  \\\n0  0  1467810672  Mon Apr 06 22:19:49 PDT 2009  NO_QUERY   scotthamilton   \n1  0  1467810917  Mon Apr 06 22:19:53 PDT 2009  NO_QUERY        mattycus   \n2  0  1467811184  Mon Apr 06 22:19:57 PDT 2009  NO_QUERY         ElleCTF   \n3  0  1467811193  Mon Apr 06 22:19:57 PDT 2009  NO_QUERY          Karoli   \n4  0  1467811372  Mon Apr 06 22:20:00 PDT 2009  NO_QUERY        joy_wolf   \n\n  @switchfoot http://twitpic.com/2y1zl - Awww, that's a bummer.  You shoulda got David Carr of Third Day to do it. ;D  \n0     is upset that he can't update his Facebook by texting it... and might cry as a result  School today also. Blah!  \n1                           @Kenichan I dived many times for the ball. Managed to save 50%  The rest go out of bounds  \n2                                                                     my whole body feels itchy and like its on fire   \n3     @nationwideclass no, it's not behaving at all. i'm mad. why am i here? because I can't see you all over there.   \n4                                                                                       @Kwesidei not the whole crew   ",
      "text/html": "<div>\n<style scoped>\n    .dataframe tbody tr th:only-of-type {\n        vertical-align: middle;\n    }\n\n    .dataframe tbody tr th {\n        vertical-align: top;\n    }\n\n    .dataframe thead th {\n        text-align: right;\n    }\n</style>\n<table border=\"1\" class=\"dataframe\">\n  <thead>\n    <tr style=\"text-align: right;\">\n      <th></th>\n      <th>0</th>\n      <th>1467810369</th>\n      <th>Mon Apr 06 22:19:45 PDT 2009</th>\n      <th>NO_QUERY</th>\n      <th>_TheSpecialOne_</th>\n      <th>@switchfoot http://twitpic.com/2y1zl - Awww, that's a bummer.  You shoulda got David Carr of Third Day to do it. ;D</th>\n    </tr>\n  </thead>\n  <tbody>\n    <tr>\n      <th>0</th>\n      <td>0</td>\n      <td>1467810672</td>\n      <td>Mon Apr 06 22:19:49 PDT 2009</td>\n      <td>NO_QUERY</td>\n      <td>scotthamilton</td>\n      <td>is upset that he can't update his Facebook by texting it... and might cry as a result  School today also. Blah!</td>\n    </tr>\n    <tr>\n      <th>1</th>\n      <td>0</td>\n      <td>1467810917</td>\n      <td>Mon Apr 06 22:19:53 PDT 2009</td>\n      <td>NO_QUERY</td>\n      <td>mattycus</td>\n      <td>@Kenichan I dived many times for the ball. Managed to save 50%  The rest go out of bounds</td>\n    </tr>\n    <tr>\n      <th>2</th>\n      <td>0</td>\n      <td>1467811184</td>\n      <td>Mon Apr 06 22:19:57 PDT 2009</td>\n      <td>NO_QUERY</td>\n      <td>ElleCTF</td>\n      <td>my whole body feels itchy and like its on fire</td>\n    </tr>\n    <tr>\n      <th>3</th>\n      <td>0</td>\n      <td>1467811193</td>\n      <td>Mon Apr 06 22:19:57 PDT 2009</td>\n      <td>NO_QUERY</td>\n      <td>Karoli</td>\n      <td>@nationwideclass no, it's not behaving at all. i'm mad. why am i here? because I can't see you all over there.</td>\n    </tr>\n    <tr>\n      <th>4</th>\n      <td>0</td>\n      <td>1467811372</td>\n      <td>Mon Apr 06 22:20:00 PDT 2009</td>\n      <td>NO_QUERY</td>\n      <td>joy_wolf</td>\n      <td>@Kwesidei not the whole crew</td>\n    </tr>\n  </tbody>\n</table>\n</div>"
     },
     "execution_count": 2,
     "metadata": {},
     "output_type": "execute_result"
    }
   ],
   "source": [
    "data = pd.read_csv(\"./data/data.csv\",encoding='latin-1')\n",
    "data.head()"
   ],
   "metadata": {
    "collapsed": false,
    "ExecuteTime": {
     "end_time": "2023-10-12T11:11:25.675424Z",
     "start_time": "2023-10-12T11:11:21.879547Z"
    }
   },
   "id": "b6d551f97e1d5645"
  },
  {
   "cell_type": "code",
   "execution_count": 3,
   "outputs": [],
   "source": [
    "data = data.sample(frac=1)"
   ],
   "metadata": {
    "collapsed": false,
    "ExecuteTime": {
     "end_time": "2023-10-12T11:11:25.940223Z",
     "start_time": "2023-10-12T11:11:25.713192Z"
    }
   },
   "id": "f614a82ae7ab9ee1"
  },
  {
   "cell_type": "code",
   "execution_count": 4,
   "outputs": [
    {
     "data": {
      "text/plain": "         target         ids                          date      flag  \\\n1178409       4  1981580293  Sun May 31 09:27:17 PDT 2009  NO_QUERY   \n885235        4  1686449110  Sun May 03 05:29:04 PDT 2009  NO_QUERY   \n846239        4  1564365563  Mon Apr 20 03:08:06 PDT 2009  NO_QUERY   \n683752        0  2250357719  Sat Jun 20 00:19:32 PDT 2009  NO_QUERY   \n661163        0  2243026452  Fri Jun 19 12:56:00 PDT 2009  NO_QUERY   \n\n                    user  \\\n1178409           3v3tT3   \n885235          agriggs8   \n846239          henasraf   \n683752   HeatherSisemore   \n661163     deathblade228   \n\n                                                                                                                      TweetText  \n1178409                                                                                    home from church...service was good   \n885235    @DetroitSkye My son is 5 - It's weird to go from a 5 yr old to baby.  It's certainly a change!  All worth it though.   \n846239                                                                                   @Lironster Mmmm  I ate some yesterday.  \n683752                                                                    Has a very busy day tomorrow. So why am I not sleepy   \n661163   So i cleaned my car for 3 hours and it took forever, then driving to work about 1 min in a bird shits on my clean car   ",
      "text/html": "<div>\n<style scoped>\n    .dataframe tbody tr th:only-of-type {\n        vertical-align: middle;\n    }\n\n    .dataframe tbody tr th {\n        vertical-align: top;\n    }\n\n    .dataframe thead th {\n        text-align: right;\n    }\n</style>\n<table border=\"1\" class=\"dataframe\">\n  <thead>\n    <tr style=\"text-align: right;\">\n      <th></th>\n      <th>target</th>\n      <th>ids</th>\n      <th>date</th>\n      <th>flag</th>\n      <th>user</th>\n      <th>TweetText</th>\n    </tr>\n  </thead>\n  <tbody>\n    <tr>\n      <th>1178409</th>\n      <td>4</td>\n      <td>1981580293</td>\n      <td>Sun May 31 09:27:17 PDT 2009</td>\n      <td>NO_QUERY</td>\n      <td>3v3tT3</td>\n      <td>home from church...service was good</td>\n    </tr>\n    <tr>\n      <th>885235</th>\n      <td>4</td>\n      <td>1686449110</td>\n      <td>Sun May 03 05:29:04 PDT 2009</td>\n      <td>NO_QUERY</td>\n      <td>agriggs8</td>\n      <td>@DetroitSkye My son is 5 - It's weird to go from a 5 yr old to baby.  It's certainly a change!  All worth it though.</td>\n    </tr>\n    <tr>\n      <th>846239</th>\n      <td>4</td>\n      <td>1564365563</td>\n      <td>Mon Apr 20 03:08:06 PDT 2009</td>\n      <td>NO_QUERY</td>\n      <td>henasraf</td>\n      <td>@Lironster Mmmm  I ate some yesterday.</td>\n    </tr>\n    <tr>\n      <th>683752</th>\n      <td>0</td>\n      <td>2250357719</td>\n      <td>Sat Jun 20 00:19:32 PDT 2009</td>\n      <td>NO_QUERY</td>\n      <td>HeatherSisemore</td>\n      <td>Has a very busy day tomorrow. So why am I not sleepy</td>\n    </tr>\n    <tr>\n      <th>661163</th>\n      <td>0</td>\n      <td>2243026452</td>\n      <td>Fri Jun 19 12:56:00 PDT 2009</td>\n      <td>NO_QUERY</td>\n      <td>deathblade228</td>\n      <td>So i cleaned my car for 3 hours and it took forever, then driving to work about 1 min in a bird shits on my clean car</td>\n    </tr>\n  </tbody>\n</table>\n</div>"
     },
     "execution_count": 4,
     "metadata": {},
     "output_type": "execute_result"
    }
   ],
   "source": [
    "DATASET_COLUMNS = [\"target\", \"ids\", \"date\", \"flag\", \"user\", \"TweetText\"]\n",
    "data.columns = DATASET_COLUMNS\n",
    "data.head()"
   ],
   "metadata": {
    "collapsed": false,
    "ExecuteTime": {
     "end_time": "2023-10-12T11:11:25.951792Z",
     "start_time": "2023-10-12T11:11:25.945035Z"
    }
   },
   "id": "b253cce9cdcad079"
  },
  {
   "cell_type": "code",
   "execution_count": 5,
   "outputs": [
    {
     "data": {
      "text/plain": "         target  \\\n1178409       4   \n885235        4   \n846239        4   \n683752        0   \n661163        0   \n\n                                                                                                                      TweetText  \n1178409                                                                                    home from church...service was good   \n885235    @DetroitSkye My son is 5 - It's weird to go from a 5 yr old to baby.  It's certainly a change!  All worth it though.   \n846239                                                                                   @Lironster Mmmm  I ate some yesterday.  \n683752                                                                    Has a very busy day tomorrow. So why am I not sleepy   \n661163   So i cleaned my car for 3 hours and it took forever, then driving to work about 1 min in a bird shits on my clean car   ",
      "text/html": "<div>\n<style scoped>\n    .dataframe tbody tr th:only-of-type {\n        vertical-align: middle;\n    }\n\n    .dataframe tbody tr th {\n        vertical-align: top;\n    }\n\n    .dataframe thead th {\n        text-align: right;\n    }\n</style>\n<table border=\"1\" class=\"dataframe\">\n  <thead>\n    <tr style=\"text-align: right;\">\n      <th></th>\n      <th>target</th>\n      <th>TweetText</th>\n    </tr>\n  </thead>\n  <tbody>\n    <tr>\n      <th>1178409</th>\n      <td>4</td>\n      <td>home from church...service was good</td>\n    </tr>\n    <tr>\n      <th>885235</th>\n      <td>4</td>\n      <td>@DetroitSkye My son is 5 - It's weird to go from a 5 yr old to baby.  It's certainly a change!  All worth it though.</td>\n    </tr>\n    <tr>\n      <th>846239</th>\n      <td>4</td>\n      <td>@Lironster Mmmm  I ate some yesterday.</td>\n    </tr>\n    <tr>\n      <th>683752</th>\n      <td>0</td>\n      <td>Has a very busy day tomorrow. So why am I not sleepy</td>\n    </tr>\n    <tr>\n      <th>661163</th>\n      <td>0</td>\n      <td>So i cleaned my car for 3 hours and it took forever, then driving to work about 1 min in a bird shits on my clean car</td>\n    </tr>\n  </tbody>\n</table>\n</div>"
     },
     "execution_count": 5,
     "metadata": {},
     "output_type": "execute_result"
    }
   ],
   "source": [
    "data.drop(['ids','date','flag','user'],axis = 1,inplace = True)\n",
    "data.head()"
   ],
   "metadata": {
    "collapsed": false,
    "ExecuteTime": {
     "end_time": "2023-10-12T11:11:25.994235Z",
     "start_time": "2023-10-12T11:11:25.977363Z"
    }
   },
   "id": "3e866125df35ebfc"
  },
  {
   "cell_type": "code",
   "execution_count": null,
   "outputs": [],
   "source": [
    "positif_data = data[data.target==4].iloc[:2500,:]\n",
    "print(positif_data.shape)\n",
    "negative_data = data[data.target==0].iloc[:100,:]\n",
    "print(negative_data.shape)"
   ],
   "metadata": {
    "collapsed": false
   },
   "id": "1f80796f10f12f03"
  },
  {
   "cell_type": "code",
   "execution_count": 6,
   "outputs": [],
   "source": [
    "stopwords_list=stopwords.words('english')\n",
    "from nltk.stem.porter import *\n",
    "stemmer = PorterStemmer()\n",
    "def remove_stopwords(text):\n",
    "    clean_text=' '.join([word for word in text.split() if word not in stopwords_list])\n",
    "    return clean_text"
   ],
   "metadata": {
    "collapsed": false,
    "ExecuteTime": {
     "end_time": "2023-10-12T11:11:47.155324Z",
     "start_time": "2023-10-12T11:11:47.139024Z"
    }
   },
   "id": "957d341a25c7ca9"
  },
  {
   "cell_type": "code",
   "execution_count": 7,
   "outputs": [],
   "source": [
    "# data = pd.concat([positif_data,negative_data],axis = 0)\n",
    "data['Clean_TweetText'] = data['TweetText'].str.replace(\"@\", \"\")\n",
    "data['Clean_TweetText'] = data['Clean_TweetText'].str.replace(r\"http\\S+\", \"\")\n",
    "data['Clean_TweetText'] = data['Clean_TweetText'].str.replace(\"[^a-zA-Z]\", \" \")\n",
    "data['Clean_TweetText'] = data['Clean_TweetText'].apply(lambda text : remove_stopwords(text.lower()))\n",
    "data['Clean_TweetText'] = data['Clean_TweetText'].apply(lambda x: ' '.join([w for w in x.split() if len(w)>3]))\n",
    "data['Clean_TweetText'] = data['Clean_TweetText'].apply(lambda x: x.split())\n",
    "data['Clean_TweetText'] = data['Clean_TweetText'].apply(lambda x: [stemmer.stem(i) for i in x])\n",
    "data['Clean_TweetText'] = data['Clean_TweetText'].apply(lambda x: ' '.join([w for w in x]))"
   ],
   "metadata": {
    "collapsed": false,
    "ExecuteTime": {
     "end_time": "2023-10-12T11:15:55.530301Z",
     "start_time": "2023-10-12T11:11:47.997291Z"
    }
   },
   "id": "d9d07808fd6fefbc"
  },
  {
   "cell_type": "code",
   "execution_count": 8,
   "outputs": [],
   "source": [
    "data = data.drop(labels=['TweetText'], axis=1)"
   ],
   "metadata": {
    "collapsed": false,
    "ExecuteTime": {
     "end_time": "2023-10-12T11:16:05.466624Z",
     "start_time": "2023-10-12T11:16:05.124380Z"
    }
   },
   "id": "b8c5ed6cdbc05281"
  },
  {
   "cell_type": "code",
   "execution_count": 9,
   "outputs": [
    {
     "data": {
      "text/plain": "         target                                         Clean_TweetText\n1178409       4                               home church...servic good\n885235        4  detroitsky weird baby. certainli change! worth though.\n846239        4                                 lironst mmmm yesterday.\n683752        0                                   busi tomorrow. sleepi\n661163        0     clean hour took forever, drive work bird shit clean",
      "text/html": "<div>\n<style scoped>\n    .dataframe tbody tr th:only-of-type {\n        vertical-align: middle;\n    }\n\n    .dataframe tbody tr th {\n        vertical-align: top;\n    }\n\n    .dataframe thead th {\n        text-align: right;\n    }\n</style>\n<table border=\"1\" class=\"dataframe\">\n  <thead>\n    <tr style=\"text-align: right;\">\n      <th></th>\n      <th>target</th>\n      <th>Clean_TweetText</th>\n    </tr>\n  </thead>\n  <tbody>\n    <tr>\n      <th>1178409</th>\n      <td>4</td>\n      <td>home church...servic good</td>\n    </tr>\n    <tr>\n      <th>885235</th>\n      <td>4</td>\n      <td>detroitsky weird baby. certainli change! worth though.</td>\n    </tr>\n    <tr>\n      <th>846239</th>\n      <td>4</td>\n      <td>lironst mmmm yesterday.</td>\n    </tr>\n    <tr>\n      <th>683752</th>\n      <td>0</td>\n      <td>busi tomorrow. sleepi</td>\n    </tr>\n    <tr>\n      <th>661163</th>\n      <td>0</td>\n      <td>clean hour took forever, drive work bird shit clean</td>\n    </tr>\n  </tbody>\n</table>\n</div>"
     },
     "execution_count": 9,
     "metadata": {},
     "output_type": "execute_result"
    }
   ],
   "source": [
    "data.head()"
   ],
   "metadata": {
    "collapsed": false,
    "ExecuteTime": {
     "end_time": "2023-10-12T11:16:06.254060Z",
     "start_time": "2023-10-12T11:16:06.238815Z"
    }
   },
   "id": "5bfe0939bfc4a0d7"
  },
  {
   "cell_type": "code",
   "execution_count": 11,
   "outputs": [],
   "source": [
    "data.to_csv('./data/processed_full.csv', sep=\",\",quotechar='\"',index=False)"
   ],
   "metadata": {
    "collapsed": false,
    "ExecuteTime": {
     "end_time": "2023-10-12T11:16:47.210875Z",
     "start_time": "2023-10-12T11:16:42.409246Z"
    }
   },
   "id": "4e8585402c8dbbf9"
  }
 ],
 "metadata": {
  "kernelspec": {
   "display_name": "Python 3",
   "language": "python",
   "name": "python3"
  },
  "language_info": {
   "codemirror_mode": {
    "name": "ipython",
    "version": 2
   },
   "file_extension": ".py",
   "mimetype": "text/x-python",
   "name": "python",
   "nbconvert_exporter": "python",
   "pygments_lexer": "ipython2",
   "version": "2.7.6"
  }
 },
 "nbformat": 4,
 "nbformat_minor": 5
}
