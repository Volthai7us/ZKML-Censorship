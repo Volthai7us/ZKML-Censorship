{
 "cells": [
  {
   "cell_type": "code",
   "execution_count": 1,
   "id": "initial_id",
   "metadata": {
    "collapsed": true,
    "ExecuteTime": {
     "end_time": "2023-10-18T12:18:25.311601Z",
     "start_time": "2023-10-18T12:18:23.211601Z"
    }
   },
   "outputs": [
    {
     "name": "stdout",
     "output_type": "stream",
     "text": [
      "./data/processed_full.csv\n",
      "./data/processed.csv\n",
      "./data/light_data.csv\n",
      "./data/light.csv\n",
      "./data/data.csv\n",
      "./data/processed\n",
      "./data/lightdata.csv\n"
     ]
    }
   ],
   "source": [
    "import re    # for regular expressions \n",
    "import nltk  # for text manipulation \n",
    "from nltk.corpus import stopwords\n",
    "import string # for text manipulation \n",
    "import warnings\n",
    "import pandas as pd # for data manipulation \n",
    "import numpy as np\n",
    "import matplotlib.pyplot as plt\n",
    "\n",
    "pd.set_option(\"display.max_colwidth\", 200)\n",
    "warnings.filterwarnings(\"ignore\") #ignore warnings\n",
    "\n",
    "# import ssl\n",
    "# \n",
    "# try:\n",
    "#     _create_unverified_https_context = ssl._create_unverified_context\n",
    "# except AttributeError:\n",
    "#     pass\n",
    "# else:\n",
    "#     ssl._create_default_https_context = _create_unverified_https_context\n",
    "# \n",
    "# nltk.download()\n",
    "\n",
    "import os\n",
    "for dirname, _, filenames in os.walk('./data'):\n",
    "    for filename in filenames:\n",
    "        print(os.path.join(dirname, filename))\n",
    "\n",
    "%matplotlib inline"
   ]
  },
  {
   "cell_type": "code",
   "execution_count": 32,
   "outputs": [
    {
     "data": {
      "text/plain": "         target  \\\n817427        1   \n865443        1   \n1508665       1   \n309038        0   \n1088584       1   \n\n                                                                                                                      TweetText  \n817427                                                                                        @tommcfly do you like Amsterdam?   \n865443                                                                                                 So excited for tonight!   \n1508665              Woo! Once i finish the game Diana is going to get me my tablets and sandwich.  Such an awesome negotiator.  \n309038                                                                                                       please talk to me.  \n1088584  @shefaly Morning shefaly..the sun's always blinding..its the level of shade that you have that makes it bearable/nice   ",
      "text/html": "<div>\n<style scoped>\n    .dataframe tbody tr th:only-of-type {\n        vertical-align: middle;\n    }\n\n    .dataframe tbody tr th {\n        vertical-align: top;\n    }\n\n    .dataframe thead th {\n        text-align: right;\n    }\n</style>\n<table border=\"1\" class=\"dataframe\">\n  <thead>\n    <tr style=\"text-align: right;\">\n      <th></th>\n      <th>target</th>\n      <th>TweetText</th>\n    </tr>\n  </thead>\n  <tbody>\n    <tr>\n      <th>817427</th>\n      <td>1</td>\n      <td>@tommcfly do you like Amsterdam?</td>\n    </tr>\n    <tr>\n      <th>865443</th>\n      <td>1</td>\n      <td>So excited for tonight!</td>\n    </tr>\n    <tr>\n      <th>1508665</th>\n      <td>1</td>\n      <td>Woo! Once i finish the game Diana is going to get me my tablets and sandwich.  Such an awesome negotiator.</td>\n    </tr>\n    <tr>\n      <th>309038</th>\n      <td>0</td>\n      <td>please talk to me.</td>\n    </tr>\n    <tr>\n      <th>1088584</th>\n      <td>1</td>\n      <td>@shefaly Morning shefaly..the sun's always blinding..its the level of shade that you have that makes it bearable/nice</td>\n    </tr>\n  </tbody>\n</table>\n</div>"
     },
     "execution_count": 32,
     "metadata": {},
     "output_type": "execute_result"
    }
   ],
   "source": [
    "data = pd.read_csv(\"./data/data.csv\",encoding='latin-1')\n",
    "data.head()\n",
    "data = data.sample(frac=1)\n",
    "DATASET_COLUMNS = [\"target\", \"ids\", \"date\", \"flag\", \"user\", \"TweetText\"]\n",
    "data.columns = DATASET_COLUMNS\n",
    "data.drop(['ids','date','flag','user'],axis = 1,inplace = True)\n",
    "data = data[:30000]\n",
    "data.loc[data['target'] == 4, 'target'] = 1\n",
    "data.head()"
   ],
   "metadata": {
    "collapsed": false,
    "ExecuteTime": {
     "end_time": "2023-10-18T12:25:04.234026Z",
     "start_time": "2023-10-18T12:25:00.988452Z"
    }
   },
   "id": "b6d551f97e1d5645"
  },
  {
   "cell_type": "code",
   "execution_count": 33,
   "outputs": [],
   "source": [
    "stopwords_list=stopwords.words('english')\n",
    "from nltk.stem.porter import *\n",
    "stemmer = PorterStemmer()\n",
    "def remove_stopwords(text):\n",
    "    clean_text=' '.join([word for word in text.split() if word not in stopwords_list])\n",
    "    return clean_text"
   ],
   "metadata": {
    "collapsed": false,
    "ExecuteTime": {
     "end_time": "2023-10-18T12:25:08.519125Z",
     "start_time": "2023-10-18T12:25:08.513761Z"
    }
   },
   "id": "957d341a25c7ca9"
  },
  {
   "cell_type": "code",
   "execution_count": 34,
   "outputs": [],
   "source": [
    "# data = pd.concat([positif_data,negative_data],axis = 0)\n",
    "data['Clean_TweetText'] = data['TweetText'].str.replace(\"@\", \"\")\n",
    "data['Clean_TweetText'] = data['Clean_TweetText'].str.replace(r\"http\\S+\", \"\")\n",
    "data['Clean_TweetText'] = data['Clean_TweetText'].str.replace(\"[^a-zA-Z]\", \" \")\n",
    "data['Clean_TweetText'] = data['Clean_TweetText'].apply(lambda text : remove_stopwords(text.lower()))\n",
    "data['Clean_TweetText'] = data['Clean_TweetText'].apply(lambda x: ' '.join([w for w in x.split() if len(w)>3]))\n",
    "data['Clean_TweetText'] = data['Clean_TweetText'].apply(lambda x: x.split())\n",
    "data['Clean_TweetText'] = data['Clean_TweetText'].apply(lambda x: [stemmer.stem(i) for i in x])\n",
    "data['Clean_TweetText'] = data['Clean_TweetText'].apply(lambda x: ' '.join([w for w in x]))"
   ],
   "metadata": {
    "collapsed": false,
    "ExecuteTime": {
     "end_time": "2023-10-18T12:25:13.755897Z",
     "start_time": "2023-10-18T12:25:09.549657Z"
    }
   },
   "id": "d9d07808fd6fefbc"
  },
  {
   "cell_type": "code",
   "execution_count": 35,
   "outputs": [],
   "source": [
    "data = data.drop(labels=['TweetText'], axis=1)"
   ],
   "metadata": {
    "collapsed": false,
    "ExecuteTime": {
     "end_time": "2023-10-18T12:25:14.382256Z",
     "start_time": "2023-10-18T12:25:14.377054Z"
    }
   },
   "id": "b8c5ed6cdbc05281"
  },
  {
   "cell_type": "code",
   "execution_count": 36,
   "outputs": [
    {
     "data": {
      "text/plain": "         target  \\\n817427        1   \n865443        1   \n1508665       1   \n309038        0   \n1088584       1   \n\n                                                                        Clean_TweetText  \n817427                                                         tommcfli like amsterdam?  \n865443                                                                   excit tonight!  \n1508665                   woo! finish game diana go tablet sandwich. awesom negotiator.  \n309038                                                                       pleas talk  \n1088584  shefali morn shefaly..th sun' alway blinding..it level shade make bearable/nic  ",
      "text/html": "<div>\n<style scoped>\n    .dataframe tbody tr th:only-of-type {\n        vertical-align: middle;\n    }\n\n    .dataframe tbody tr th {\n        vertical-align: top;\n    }\n\n    .dataframe thead th {\n        text-align: right;\n    }\n</style>\n<table border=\"1\" class=\"dataframe\">\n  <thead>\n    <tr style=\"text-align: right;\">\n      <th></th>\n      <th>target</th>\n      <th>Clean_TweetText</th>\n    </tr>\n  </thead>\n  <tbody>\n    <tr>\n      <th>817427</th>\n      <td>1</td>\n      <td>tommcfli like amsterdam?</td>\n    </tr>\n    <tr>\n      <th>865443</th>\n      <td>1</td>\n      <td>excit tonight!</td>\n    </tr>\n    <tr>\n      <th>1508665</th>\n      <td>1</td>\n      <td>woo! finish game diana go tablet sandwich. awesom negotiator.</td>\n    </tr>\n    <tr>\n      <th>309038</th>\n      <td>0</td>\n      <td>pleas talk</td>\n    </tr>\n    <tr>\n      <th>1088584</th>\n      <td>1</td>\n      <td>shefali morn shefaly..th sun' alway blinding..it level shade make bearable/nic</td>\n    </tr>\n  </tbody>\n</table>\n</div>"
     },
     "execution_count": 36,
     "metadata": {},
     "output_type": "execute_result"
    }
   ],
   "source": [
    "data.head()"
   ],
   "metadata": {
    "collapsed": false,
    "ExecuteTime": {
     "end_time": "2023-10-18T12:25:14.722819Z",
     "start_time": "2023-10-18T12:25:14.716040Z"
    }
   },
   "id": "5bfe0939bfc4a0d7"
  },
  {
   "cell_type": "code",
   "execution_count": 37,
   "outputs": [],
   "source": [
    "data.to_csv('./data/processed_full.csv', sep=\",\",quotechar='\"',index=False)"
   ],
   "metadata": {
    "collapsed": false,
    "ExecuteTime": {
     "end_time": "2023-10-18T12:25:16.917644Z",
     "start_time": "2023-10-18T12:25:16.855282Z"
    }
   },
   "id": "4e8585402c8dbbf9"
  },
  {
   "cell_type": "code",
   "execution_count": 38,
   "outputs": [
    {
     "data": {
      "text/plain": "             target\ncount  30000.000000\nmean       0.503400\nstd        0.499997\nmin        0.000000\n25%        0.000000\n50%        1.000000\n75%        1.000000\nmax        1.000000",
      "text/html": "<div>\n<style scoped>\n    .dataframe tbody tr th:only-of-type {\n        vertical-align: middle;\n    }\n\n    .dataframe tbody tr th {\n        vertical-align: top;\n    }\n\n    .dataframe thead th {\n        text-align: right;\n    }\n</style>\n<table border=\"1\" class=\"dataframe\">\n  <thead>\n    <tr style=\"text-align: right;\">\n      <th></th>\n      <th>target</th>\n    </tr>\n  </thead>\n  <tbody>\n    <tr>\n      <th>count</th>\n      <td>30000.000000</td>\n    </tr>\n    <tr>\n      <th>mean</th>\n      <td>0.503400</td>\n    </tr>\n    <tr>\n      <th>std</th>\n      <td>0.499997</td>\n    </tr>\n    <tr>\n      <th>min</th>\n      <td>0.000000</td>\n    </tr>\n    <tr>\n      <th>25%</th>\n      <td>0.000000</td>\n    </tr>\n    <tr>\n      <th>50%</th>\n      <td>1.000000</td>\n    </tr>\n    <tr>\n      <th>75%</th>\n      <td>1.000000</td>\n    </tr>\n    <tr>\n      <th>max</th>\n      <td>1.000000</td>\n    </tr>\n  </tbody>\n</table>\n</div>"
     },
     "execution_count": 38,
     "metadata": {},
     "output_type": "execute_result"
    }
   ],
   "source": [
    "data.describe()"
   ],
   "metadata": {
    "collapsed": false,
    "ExecuteTime": {
     "end_time": "2023-10-18T12:25:18.174281Z",
     "start_time": "2023-10-18T12:25:18.163383Z"
    }
   },
   "id": "445567fba544d546"
  },
  {
   "cell_type": "code",
   "execution_count": null,
   "outputs": [],
   "source": [],
   "metadata": {
    "collapsed": false
   },
   "id": "e7115c2d75216cec"
  }
 ],
 "metadata": {
  "kernelspec": {
   "display_name": "Python 3",
   "language": "python",
   "name": "python3"
  },
  "language_info": {
   "codemirror_mode": {
    "name": "ipython",
    "version": 2
   },
   "file_extension": ".py",
   "mimetype": "text/x-python",
   "name": "python",
   "nbconvert_exporter": "python",
   "pygments_lexer": "ipython2",
   "version": "2.7.6"
  }
 },
 "nbformat": 4,
 "nbformat_minor": 5
}
